{
 "cells": [
  {
   "cell_type": "markdown",
   "id": "2061e93e",
   "metadata": {},
   "source": [
    "# Welcome to Olympics Data Analysis 1896-2016 Rio Di Jenerio"
   ]
  },
  {
   "cell_type": "code",
   "execution_count": 1,
   "id": "fd041308",
   "metadata": {},
   "outputs": [],
   "source": [
    "import pandas as pd\n",
    "import numpy as np\n",
    "import matplotlib.pyplot as plt\n",
    "import seaborn as sns\n",
    "%matplotlib inline"
   ]
  },
  {
   "cell_type": "code",
   "execution_count": 2,
   "id": "757e85b8",
   "metadata": {},
   "outputs": [],
   "source": [
    "#Load Our Dataset\n",
    "ath=pd.read_csv('athlete_events.csv')\n",
    "region_df=pd.read_csv('noc_regions.csv')"
   ]
  },
  {
   "cell_type": "code",
   "execution_count": 223,
   "id": "512dbf61",
   "metadata": {
    "scrolled": false
   },
   "outputs": [
    {
     "data": {
      "text/plain": [
       "ID                                          1\n",
       "Name                          Jean Hauptmanns\n",
       "Sex                                         F\n",
       "Age                                      11.0\n",
       "Height                                  127.0\n",
       "Weight                                   28.0\n",
       "Team                              30. Februar\n",
       "NOC                                       AFG\n",
       "Games                             1896 Summer\n",
       "Year                                     1896\n",
       "Season                                 Summer\n",
       "City                              Albertville\n",
       "Sport                             Aeronautics\n",
       "Event           Aeronautics Mixed Aeronautics\n",
       "Total Medals                              NaN\n",
       "dtype: object"
      ]
     },
     "execution_count": 223,
     "metadata": {},
     "output_type": "execute_result"
    }
   ],
   "source": [
    "ath.min()"
   ]
  },
  {
   "cell_type": "code",
   "execution_count": 44,
   "id": "95fb9489",
   "metadata": {},
   "outputs": [],
   "source": [
    "#Join the dataframes or Merge the dataframe\n",
    "\n",
    "ath=ath.merge(region_df,on='NOC',how='left')"
   ]
  },
  {
   "cell_type": "code",
   "execution_count": 45,
   "id": "0aed0f6c",
   "metadata": {},
   "outputs": [],
   "source": [
    "ath.drop_duplicates(subset=['Team', 'NOC', 'Games', 'Year', 'City', 'Sport', 'Event', 'Medal'],inplace=True)"
   ]
  },
  {
   "cell_type": "code",
   "execution_count": 46,
   "id": "b584c33f",
   "metadata": {},
   "outputs": [
    {
     "data": {
      "text/plain": [
       "(124634, 19)"
      ]
     },
     "execution_count": 46,
     "metadata": {},
     "output_type": "execute_result"
    }
   ],
   "source": [
    "#Shape of our merged Dataset\n",
    "ath.shape"
   ]
  },
  {
   "cell_type": "code",
   "execution_count": 47,
   "id": "475829c4",
   "metadata": {},
   "outputs": [],
   "source": [
    "#Here there is a problem which is many of the column\n",
    "#whose name is start with lower case so\n",
    "#we have to convert that into upper case\n",
    "ath.rename(columns={'region':'Region','notes':'Notes'},inplace=True)"
   ]
  },
  {
   "cell_type": "code",
   "execution_count": 48,
   "id": "e4d31287",
   "metadata": {
    "scrolled": true
   },
   "outputs": [
    {
     "data": {
      "text/html": [
       "<div>\n",
       "<style scoped>\n",
       "    .dataframe tbody tr th:only-of-type {\n",
       "        vertical-align: middle;\n",
       "    }\n",
       "\n",
       "    .dataframe tbody tr th {\n",
       "        vertical-align: top;\n",
       "    }\n",
       "\n",
       "    .dataframe thead th {\n",
       "        text-align: right;\n",
       "    }\n",
       "</style>\n",
       "<table border=\"1\" class=\"dataframe\">\n",
       "  <thead>\n",
       "    <tr style=\"text-align: right;\">\n",
       "      <th></th>\n",
       "      <th>ID</th>\n",
       "      <th>Age</th>\n",
       "      <th>Height</th>\n",
       "      <th>Weight</th>\n",
       "      <th>Year</th>\n",
       "    </tr>\n",
       "  </thead>\n",
       "  <tbody>\n",
       "    <tr>\n",
       "      <th>count</th>\n",
       "      <td>124634.000000</td>\n",
       "      <td>121282.000000</td>\n",
       "      <td>102110.00000</td>\n",
       "      <td>101331.000000</td>\n",
       "      <td>124634.000000</td>\n",
       "    </tr>\n",
       "    <tr>\n",
       "      <th>mean</th>\n",
       "      <td>54363.256559</td>\n",
       "      <td>25.257375</td>\n",
       "      <td>174.76825</td>\n",
       "      <td>70.499033</td>\n",
       "      <td>1982.168766</td>\n",
       "    </tr>\n",
       "    <tr>\n",
       "      <th>std</th>\n",
       "      <td>38477.267803</td>\n",
       "      <td>5.987941</td>\n",
       "      <td>10.05985</td>\n",
       "      <td>14.905281</td>\n",
       "      <td>28.146116</td>\n",
       "    </tr>\n",
       "    <tr>\n",
       "      <th>min</th>\n",
       "      <td>1.000000</td>\n",
       "      <td>11.000000</td>\n",
       "      <td>127.00000</td>\n",
       "      <td>28.000000</td>\n",
       "      <td>1896.000000</td>\n",
       "    </tr>\n",
       "    <tr>\n",
       "      <th>25%</th>\n",
       "      <td>20326.250000</td>\n",
       "      <td>21.000000</td>\n",
       "      <td>168.00000</td>\n",
       "      <td>60.000000</td>\n",
       "      <td>1968.000000</td>\n",
       "    </tr>\n",
       "    <tr>\n",
       "      <th>50%</th>\n",
       "      <td>48102.000000</td>\n",
       "      <td>24.000000</td>\n",
       "      <td>175.00000</td>\n",
       "      <td>69.000000</td>\n",
       "      <td>1988.000000</td>\n",
       "    </tr>\n",
       "    <tr>\n",
       "      <th>75%</th>\n",
       "      <td>84618.750000</td>\n",
       "      <td>28.000000</td>\n",
       "      <td>182.00000</td>\n",
       "      <td>78.000000</td>\n",
       "      <td>2004.000000</td>\n",
       "    </tr>\n",
       "    <tr>\n",
       "      <th>max</th>\n",
       "      <td>135560.000000</td>\n",
       "      <td>84.000000</td>\n",
       "      <td>218.00000</td>\n",
       "      <td>214.000000</td>\n",
       "      <td>2016.000000</td>\n",
       "    </tr>\n",
       "  </tbody>\n",
       "</table>\n",
       "</div>"
      ],
      "text/plain": [
       "                  ID            Age        Height         Weight  \\\n",
       "count  124634.000000  121282.000000  102110.00000  101331.000000   \n",
       "mean    54363.256559      25.257375     174.76825      70.499033   \n",
       "std     38477.267803       5.987941      10.05985      14.905281   \n",
       "min         1.000000      11.000000     127.00000      28.000000   \n",
       "25%     20326.250000      21.000000     168.00000      60.000000   \n",
       "50%     48102.000000      24.000000     175.00000      69.000000   \n",
       "75%     84618.750000      28.000000     182.00000      78.000000   \n",
       "max    135560.000000      84.000000     218.00000     214.000000   \n",
       "\n",
       "                Year  \n",
       "count  124634.000000  \n",
       "mean     1982.168766  \n",
       "std        28.146116  \n",
       "min      1896.000000  \n",
       "25%      1968.000000  \n",
       "50%      1988.000000  \n",
       "75%      2004.000000  \n",
       "max      2016.000000  "
      ]
     },
     "execution_count": 48,
     "metadata": {},
     "output_type": "execute_result"
    }
   ],
   "source": [
    "#Let's see the statistical behaviour of our data\n",
    "#by applying describe() function\n",
    "#But this will us only analysis about numeric columns\n",
    "ath.describe()"
   ]
  },
  {
   "cell_type": "code",
   "execution_count": 49,
   "id": "1001ec32",
   "metadata": {
    "scrolled": true
   },
   "outputs": [
    {
     "data": {
      "text/plain": [
       "ID             0\n",
       "Name           0\n",
       "Sex            0\n",
       "Age         3352\n",
       "Height     22524\n",
       "Weight     23303\n",
       "Team           0\n",
       "NOC            0\n",
       "Games          0\n",
       "Year           0\n",
       "Season         0\n",
       "City           0\n",
       "Sport          0\n",
       "Event          0\n",
       "Medal     105707\n",
       "Region       259\n",
       "Notes     122297\n",
       "Region       259\n",
       "Notes     122297\n",
       "dtype: int64"
      ]
     },
     "execution_count": 49,
     "metadata": {},
     "output_type": "execute_result"
    }
   ],
   "source": [
    "ath.isnull().sum()\n",
    "\n",
    "# So here we have missing values in around 6 columns"
   ]
  },
  {
   "cell_type": "code",
   "execution_count": 50,
   "id": "e861efec",
   "metadata": {
    "scrolled": true
   },
   "outputs": [
    {
     "data": {
      "text/plain": [
       "[24.0,\n",
       " 23.0,\n",
       " 34.0,\n",
       " 21.0,\n",
       " 25.0,\n",
       " 27.0,\n",
       " 31.0,\n",
       " 33.0,\n",
       " 18.0,\n",
       " 26.0,\n",
       " 22.0,\n",
       " 30.0,\n",
       " 32.0,\n",
       " 28.0,\n",
       " 54.0,\n",
       " 20.0,\n",
       " 17.0,\n",
       " 43.0,\n",
       " 47.0,\n",
       " 29.0,\n",
       " 41.0,\n",
       " 45.0,\n",
       " 49.0,\n",
       " 53.0,\n",
       " 57.0,\n",
       " nan,\n",
       " 19.0,\n",
       " 38.0,\n",
       " 35.0,\n",
       " 16.0,\n",
       " 37.0,\n",
       " 15.0,\n",
       " 42.0,\n",
       " 46.0,\n",
       " 40.0,\n",
       " 36.0,\n",
       " 14.0,\n",
       " 39.0,\n",
       " 48.0,\n",
       " 52.0,\n",
       " 44.0,\n",
       " 55.0,\n",
       " 50.0,\n",
       " 71.0,\n",
       " 63.0,\n",
       " 51.0,\n",
       " 58.0,\n",
       " 13.0,\n",
       " 60.0,\n",
       " 75.0,\n",
       " 65.0,\n",
       " 84.0,\n",
       " 12.0,\n",
       " 72.0,\n",
       " 59.0,\n",
       " 56.0,\n",
       " 64.0,\n",
       " 62.0,\n",
       " 61.0,\n",
       " 73.0,\n",
       " 11.0,\n",
       " 76.0,\n",
       " 69.0,\n",
       " 66.0,\n",
       " 67.0,\n",
       " 70.0,\n",
       " 68.0,\n",
       " 81.0]"
      ]
     },
     "execution_count": 50,
     "metadata": {},
     "output_type": "execute_result"
    }
   ],
   "source": [
    "ath['Age'].unique().tolist() #You can see the nan values here"
   ]
  },
  {
   "cell_type": "code",
   "execution_count": 51,
   "id": "3459b4e1",
   "metadata": {},
   "outputs": [],
   "source": [
    "#players from india\n",
    "india_1=ath.query('Team == \"India\"')"
   ]
  },
  {
   "cell_type": "code",
   "execution_count": 52,
   "id": "2324b9d6",
   "metadata": {},
   "outputs": [
    {
     "data": {
      "text/html": [
       "<div>\n",
       "<style scoped>\n",
       "    .dataframe tbody tr th:only-of-type {\n",
       "        vertical-align: middle;\n",
       "    }\n",
       "\n",
       "    .dataframe tbody tr th {\n",
       "        vertical-align: top;\n",
       "    }\n",
       "\n",
       "    .dataframe thead th {\n",
       "        text-align: right;\n",
       "    }\n",
       "</style>\n",
       "<table border=\"1\" class=\"dataframe\">\n",
       "  <thead>\n",
       "    <tr style=\"text-align: right;\">\n",
       "      <th></th>\n",
       "      <th>ID</th>\n",
       "      <th>Name</th>\n",
       "      <th>Sex</th>\n",
       "      <th>Age</th>\n",
       "      <th>Height</th>\n",
       "      <th>Weight</th>\n",
       "      <th>Team</th>\n",
       "      <th>NOC</th>\n",
       "      <th>Games</th>\n",
       "      <th>Year</th>\n",
       "      <th>Season</th>\n",
       "      <th>City</th>\n",
       "      <th>Sport</th>\n",
       "      <th>Event</th>\n",
       "      <th>Medal</th>\n",
       "      <th>Region</th>\n",
       "      <th>Notes</th>\n",
       "      <th>Region</th>\n",
       "      <th>Notes</th>\n",
       "    </tr>\n",
       "  </thead>\n",
       "  <tbody>\n",
       "    <tr>\n",
       "      <th>452</th>\n",
       "      <td>281</td>\n",
       "      <td>S. Abdul Hamid</td>\n",
       "      <td>M</td>\n",
       "      <td>NaN</td>\n",
       "      <td>NaN</td>\n",
       "      <td>NaN</td>\n",
       "      <td>India</td>\n",
       "      <td>IND</td>\n",
       "      <td>1928 Summer</td>\n",
       "      <td>1928</td>\n",
       "      <td>Summer</td>\n",
       "      <td>Amsterdam</td>\n",
       "      <td>Athletics</td>\n",
       "      <td>Athletics Men's 110 metres Hurdles</td>\n",
       "      <td>NaN</td>\n",
       "      <td>India</td>\n",
       "      <td>NaN</td>\n",
       "      <td>India</td>\n",
       "      <td>NaN</td>\n",
       "    </tr>\n",
       "    <tr>\n",
       "      <th>453</th>\n",
       "      <td>281</td>\n",
       "      <td>S. Abdul Hamid</td>\n",
       "      <td>M</td>\n",
       "      <td>NaN</td>\n",
       "      <td>NaN</td>\n",
       "      <td>NaN</td>\n",
       "      <td>India</td>\n",
       "      <td>IND</td>\n",
       "      <td>1928 Summer</td>\n",
       "      <td>1928</td>\n",
       "      <td>Summer</td>\n",
       "      <td>Amsterdam</td>\n",
       "      <td>Athletics</td>\n",
       "      <td>Athletics Men's 400 metres Hurdles</td>\n",
       "      <td>NaN</td>\n",
       "      <td>India</td>\n",
       "      <td>NaN</td>\n",
       "      <td>India</td>\n",
       "      <td>NaN</td>\n",
       "    </tr>\n",
       "    <tr>\n",
       "      <th>813</th>\n",
       "      <td>512</td>\n",
       "      <td>Shiny Kurisingal Abraham-Wilson</td>\n",
       "      <td>F</td>\n",
       "      <td>19.0</td>\n",
       "      <td>167.0</td>\n",
       "      <td>53.0</td>\n",
       "      <td>India</td>\n",
       "      <td>IND</td>\n",
       "      <td>1984 Summer</td>\n",
       "      <td>1984</td>\n",
       "      <td>Summer</td>\n",
       "      <td>Los Angeles</td>\n",
       "      <td>Athletics</td>\n",
       "      <td>Athletics Women's 800 metres</td>\n",
       "      <td>NaN</td>\n",
       "      <td>India</td>\n",
       "      <td>NaN</td>\n",
       "      <td>India</td>\n",
       "      <td>NaN</td>\n",
       "    </tr>\n",
       "    <tr>\n",
       "      <th>814</th>\n",
       "      <td>512</td>\n",
       "      <td>Shiny Kurisingal Abraham-Wilson</td>\n",
       "      <td>F</td>\n",
       "      <td>19.0</td>\n",
       "      <td>167.0</td>\n",
       "      <td>53.0</td>\n",
       "      <td>India</td>\n",
       "      <td>IND</td>\n",
       "      <td>1984 Summer</td>\n",
       "      <td>1984</td>\n",
       "      <td>Summer</td>\n",
       "      <td>Los Angeles</td>\n",
       "      <td>Athletics</td>\n",
       "      <td>Athletics Women's 4 x 400 metres Relay</td>\n",
       "      <td>NaN</td>\n",
       "      <td>India</td>\n",
       "      <td>NaN</td>\n",
       "      <td>India</td>\n",
       "      <td>NaN</td>\n",
       "    </tr>\n",
       "    <tr>\n",
       "      <th>815</th>\n",
       "      <td>512</td>\n",
       "      <td>Shiny Kurisingal Abraham-Wilson</td>\n",
       "      <td>F</td>\n",
       "      <td>23.0</td>\n",
       "      <td>167.0</td>\n",
       "      <td>53.0</td>\n",
       "      <td>India</td>\n",
       "      <td>IND</td>\n",
       "      <td>1988 Summer</td>\n",
       "      <td>1988</td>\n",
       "      <td>Summer</td>\n",
       "      <td>Seoul</td>\n",
       "      <td>Athletics</td>\n",
       "      <td>Athletics Women's 800 metres</td>\n",
       "      <td>NaN</td>\n",
       "      <td>India</td>\n",
       "      <td>NaN</td>\n",
       "      <td>India</td>\n",
       "      <td>NaN</td>\n",
       "    </tr>\n",
       "    <tr>\n",
       "      <th>816</th>\n",
       "      <td>512</td>\n",
       "      <td>Shiny Kurisingal Abraham-Wilson</td>\n",
       "      <td>F</td>\n",
       "      <td>23.0</td>\n",
       "      <td>167.0</td>\n",
       "      <td>53.0</td>\n",
       "      <td>India</td>\n",
       "      <td>IND</td>\n",
       "      <td>1988 Summer</td>\n",
       "      <td>1988</td>\n",
       "      <td>Summer</td>\n",
       "      <td>Seoul</td>\n",
       "      <td>Athletics</td>\n",
       "      <td>Athletics Women's 4 x 400 metres Relay</td>\n",
       "      <td>NaN</td>\n",
       "      <td>India</td>\n",
       "      <td>NaN</td>\n",
       "      <td>India</td>\n",
       "      <td>NaN</td>\n",
       "    </tr>\n",
       "    <tr>\n",
       "      <th>817</th>\n",
       "      <td>512</td>\n",
       "      <td>Shiny Kurisingal Abraham-Wilson</td>\n",
       "      <td>F</td>\n",
       "      <td>27.0</td>\n",
       "      <td>167.0</td>\n",
       "      <td>53.0</td>\n",
       "      <td>India</td>\n",
       "      <td>IND</td>\n",
       "      <td>1992 Summer</td>\n",
       "      <td>1992</td>\n",
       "      <td>Summer</td>\n",
       "      <td>Barcelona</td>\n",
       "      <td>Athletics</td>\n",
       "      <td>Athletics Women's 800 metres</td>\n",
       "      <td>NaN</td>\n",
       "      <td>India</td>\n",
       "      <td>NaN</td>\n",
       "      <td>India</td>\n",
       "      <td>NaN</td>\n",
       "    </tr>\n",
       "    <tr>\n",
       "      <th>818</th>\n",
       "      <td>512</td>\n",
       "      <td>Shiny Kurisingal Abraham-Wilson</td>\n",
       "      <td>F</td>\n",
       "      <td>31.0</td>\n",
       "      <td>167.0</td>\n",
       "      <td>53.0</td>\n",
       "      <td>India</td>\n",
       "      <td>IND</td>\n",
       "      <td>1996 Summer</td>\n",
       "      <td>1996</td>\n",
       "      <td>Summer</td>\n",
       "      <td>Atlanta</td>\n",
       "      <td>Athletics</td>\n",
       "      <td>Athletics Women's 4 x 400 metres Relay</td>\n",
       "      <td>NaN</td>\n",
       "      <td>India</td>\n",
       "      <td>NaN</td>\n",
       "      <td>India</td>\n",
       "      <td>NaN</td>\n",
       "    </tr>\n",
       "    <tr>\n",
       "      <th>1088</th>\n",
       "      <td>663</td>\n",
       "      <td>Sharath Kamal Achanta</td>\n",
       "      <td>M</td>\n",
       "      <td>22.0</td>\n",
       "      <td>186.0</td>\n",
       "      <td>85.0</td>\n",
       "      <td>India</td>\n",
       "      <td>IND</td>\n",
       "      <td>2004 Summer</td>\n",
       "      <td>2004</td>\n",
       "      <td>Summer</td>\n",
       "      <td>Athina</td>\n",
       "      <td>Table Tennis</td>\n",
       "      <td>Table Tennis Men's Singles</td>\n",
       "      <td>NaN</td>\n",
       "      <td>India</td>\n",
       "      <td>NaN</td>\n",
       "      <td>India</td>\n",
       "      <td>NaN</td>\n",
       "    </tr>\n",
       "    <tr>\n",
       "      <th>1089</th>\n",
       "      <td>663</td>\n",
       "      <td>Sharath Kamal Achanta</td>\n",
       "      <td>M</td>\n",
       "      <td>26.0</td>\n",
       "      <td>186.0</td>\n",
       "      <td>85.0</td>\n",
       "      <td>India</td>\n",
       "      <td>IND</td>\n",
       "      <td>2008 Summer</td>\n",
       "      <td>2008</td>\n",
       "      <td>Summer</td>\n",
       "      <td>Beijing</td>\n",
       "      <td>Table Tennis</td>\n",
       "      <td>Table Tennis Men's Singles</td>\n",
       "      <td>NaN</td>\n",
       "      <td>India</td>\n",
       "      <td>NaN</td>\n",
       "      <td>India</td>\n",
       "      <td>NaN</td>\n",
       "    </tr>\n",
       "  </tbody>\n",
       "</table>\n",
       "</div>"
      ],
      "text/plain": [
       "       ID                             Name Sex   Age  Height  Weight   Team  \\\n",
       "452   281                   S. Abdul Hamid   M   NaN     NaN     NaN  India   \n",
       "453   281                   S. Abdul Hamid   M   NaN     NaN     NaN  India   \n",
       "813   512  Shiny Kurisingal Abraham-Wilson   F  19.0   167.0    53.0  India   \n",
       "814   512  Shiny Kurisingal Abraham-Wilson   F  19.0   167.0    53.0  India   \n",
       "815   512  Shiny Kurisingal Abraham-Wilson   F  23.0   167.0    53.0  India   \n",
       "816   512  Shiny Kurisingal Abraham-Wilson   F  23.0   167.0    53.0  India   \n",
       "817   512  Shiny Kurisingal Abraham-Wilson   F  27.0   167.0    53.0  India   \n",
       "818   512  Shiny Kurisingal Abraham-Wilson   F  31.0   167.0    53.0  India   \n",
       "1088  663            Sharath Kamal Achanta   M  22.0   186.0    85.0  India   \n",
       "1089  663            Sharath Kamal Achanta   M  26.0   186.0    85.0  India   \n",
       "\n",
       "      NOC        Games  Year  Season         City         Sport  \\\n",
       "452   IND  1928 Summer  1928  Summer    Amsterdam     Athletics   \n",
       "453   IND  1928 Summer  1928  Summer    Amsterdam     Athletics   \n",
       "813   IND  1984 Summer  1984  Summer  Los Angeles     Athletics   \n",
       "814   IND  1984 Summer  1984  Summer  Los Angeles     Athletics   \n",
       "815   IND  1988 Summer  1988  Summer        Seoul     Athletics   \n",
       "816   IND  1988 Summer  1988  Summer        Seoul     Athletics   \n",
       "817   IND  1992 Summer  1992  Summer    Barcelona     Athletics   \n",
       "818   IND  1996 Summer  1996  Summer      Atlanta     Athletics   \n",
       "1088  IND  2004 Summer  2004  Summer       Athina  Table Tennis   \n",
       "1089  IND  2008 Summer  2008  Summer      Beijing  Table Tennis   \n",
       "\n",
       "                                       Event Medal Region Notes Region Notes  \n",
       "452       Athletics Men's 110 metres Hurdles   NaN  India   NaN  India   NaN  \n",
       "453       Athletics Men's 400 metres Hurdles   NaN  India   NaN  India   NaN  \n",
       "813             Athletics Women's 800 metres   NaN  India   NaN  India   NaN  \n",
       "814   Athletics Women's 4 x 400 metres Relay   NaN  India   NaN  India   NaN  \n",
       "815             Athletics Women's 800 metres   NaN  India   NaN  India   NaN  \n",
       "816   Athletics Women's 4 x 400 metres Relay   NaN  India   NaN  India   NaN  \n",
       "817             Athletics Women's 800 metres   NaN  India   NaN  India   NaN  \n",
       "818   Athletics Women's 4 x 400 metres Relay   NaN  India   NaN  India   NaN  \n",
       "1088              Table Tennis Men's Singles   NaN  India   NaN  India   NaN  \n",
       "1089              Table Tennis Men's Singles   NaN  India   NaN  India   NaN  "
      ]
     },
     "execution_count": 52,
     "metadata": {},
     "output_type": "execute_result"
    }
   ],
   "source": [
    "india_1.head(10)"
   ]
  },
  {
   "cell_type": "code",
   "execution_count": 53,
   "id": "dd37bb27",
   "metadata": {},
   "outputs": [
    {
     "data": {
      "text/plain": [
       "(704, 19)"
      ]
     },
     "execution_count": 53,
     "metadata": {},
     "output_type": "execute_result"
    }
   ],
   "source": [
    "india_1.shape #So 1400 players are from india"
   ]
  },
  {
   "cell_type": "code",
   "execution_count": 54,
   "id": "d0e01ee9",
   "metadata": {},
   "outputs": [],
   "source": [
    "#Top countries participating\n",
    "top_country=ath.Team.value_counts().sort_values(ascending=False).head(10)"
   ]
  },
  {
   "cell_type": "code",
   "execution_count": 55,
   "id": "4b4e933e",
   "metadata": {
    "scrolled": true
   },
   "outputs": [
    {
     "data": {
      "text/plain": [
       "United States    6877\n",
       "France           4444\n",
       "Great Britain    4443\n",
       "Italy            3951\n",
       "Canada           3756\n",
       "Germany          3597\n",
       "Australia        3338\n",
       "Japan            3317\n",
       "Sweden           3251\n",
       "Hungary          2927\n",
       "Name: Team, dtype: int64"
      ]
     },
     "execution_count": 55,
     "metadata": {},
     "output_type": "execute_result"
    }
   ],
   "source": [
    "top_country"
   ]
  },
  {
   "cell_type": "code",
   "execution_count": 56,
   "id": "53527558",
   "metadata": {
    "scrolled": false
   },
   "outputs": [
    {
     "data": {
      "text/plain": [
       "Text(0.5, 1.0, 'Top Participation Nation')"
      ]
     },
     "execution_count": 56,
     "metadata": {},
     "output_type": "execute_result"
    },
    {
     "data": {
      "image/png": "[encoded data removed]",
      "text/plain": [
       "<Figure size 1008x288 with 1 Axes>"
      ]
     },
     "metadata": {
      "needs_background": "light"
     },
     "output_type": "display_data"
    }
   ],
   "source": [
    "#let's make a bar graph of top 10 countries\n",
    "plt.figure(figsize=(14,4))\n",
    "sns.barplot(x=top_country.index,y=top_country,palette='Set2');\n",
    "plt.title('Top Participation Nation')"
   ]
  },
  {
   "cell_type": "code",
   "execution_count": 57,
   "id": "24648503",
   "metadata": {},
   "outputs": [],
   "source": [
    "##On the basis of Summer i want to filter out our data\n",
    "ath_summer=ath[ath['Season']=='Summer']"
   ]
  },
  {
   "cell_type": "code",
   "execution_count": 58,
   "id": "f1f0e470",
   "metadata": {},
   "outputs": [],
   "source": [
    "#Top_10 Participating countries who is participated in summer \n",
    "ath_10_Participated=ath_summer.Team.value_counts().sort_values(ascending=False).head(10)"
   ]
  },
  {
   "cell_type": "code",
   "execution_count": 61,
   "id": "8b673502",
   "metadata": {
    "scrolled": false
   },
   "outputs": [
    {
     "data": {
      "text/plain": [
       "<AxesSubplot:title={'center':'Top_10 Participated Nation In Summer'}, ylabel='Team'>"
      ]
     },
     "execution_count": 61,
     "metadata": {},
     "output_type": "execute_result"
    },
    {
     "data": {
      "image/png": "[encoded data removed]",
      "text/plain": [
       "<Figure size 1008x504 with 1 Axes>"
      ]
     },
     "metadata": {
      "needs_background": "light"
     },
     "output_type": "display_data"
    }
   ],
   "source": [
    "#let's make a bar graph of top 10 countries participated in Summer\n",
    "plt.figure(figsize=(14,7))\n",
    "plt.title('Top_10 Participated Nation In Summer')\n",
    "sns.barplot(x=ath_10_Participated.index,y=ath_10_Participated,palette='Set3')"
   ]
  },
  {
   "cell_type": "code",
   "execution_count": 62,
   "id": "43550202",
   "metadata": {},
   "outputs": [
    {
     "data": {
      "text/plain": [
       "<bound method Series.fillna of 0         24.0\n",
       "1         23.0\n",
       "2         24.0\n",
       "3         34.0\n",
       "4         21.0\n",
       "          ... \n",
       "124629    25.0\n",
       "124630    29.0\n",
       "124631    29.0\n",
       "124632    33.0\n",
       "124633    36.0\n",
       "Name: Age, Length: 124634, dtype: float64>"
      ]
     },
     "execution_count": 62,
     "metadata": {},
     "output_type": "execute_result"
    }
   ],
   "source": [
    "ath['Age'].fillna"
   ]
  },
  {
   "cell_type": "code",
   "execution_count": 63,
   "id": "e0f4ebb5",
   "metadata": {},
   "outputs": [],
   "source": [
    "\n",
    "ath_age=ath[ath['Age']>21.0]"
   ]
  },
  {
   "cell_type": "code",
   "execution_count": 64,
   "id": "4c3a8d11",
   "metadata": {},
   "outputs": [
    {
     "data": {
      "image/png": "[encoded data removed]",
      "text/plain": [
       "<Figure size 1008x504 with 1 Axes>"
      ]
     },
     "metadata": {
      "needs_background": "light"
     },
     "output_type": "display_data"
    }
   ],
   "source": [
    "#Age Distribution Of the participants Whose Age>21yrs\n",
    "plt.figure(figsize=(14,7))\n",
    "plt.xlabel('Age')\n",
    "plt.ylabel('No. Of Participants')\n",
    "plt.title('Age Distribution Of The Athletes')\n",
    "plt.hist(ath_age.Age,bins=(10), color='orange',edgecolor='red');\n"
   ]
  },
  {
   "cell_type": "code",
   "execution_count": 65,
   "id": "6d7f76a8",
   "metadata": {},
   "outputs": [],
   "source": [
    "#On the basis of Winter i want to filter out our data\n",
    "ath_winter=ath[ath['Season']=='Winter']"
   ]
  },
  {
   "cell_type": "code",
   "execution_count": 66,
   "id": "f2c5f8b6",
   "metadata": {},
   "outputs": [
    {
     "data": {
      "text/plain": [
       "(18998, 19)"
      ]
     },
     "execution_count": 66,
     "metadata": {},
     "output_type": "execute_result"
    }
   ],
   "source": [
    "ath_winter.shape #In winter there were 48564 participated"
   ]
  },
  {
   "cell_type": "code",
   "execution_count": 67,
   "id": "b667e3c8",
   "metadata": {},
   "outputs": [],
   "source": [
    "#Top_10 Participating countries who is participated in Winter\n",
    "ath_10_winter=ath_winter.Team.value_counts().sort_values(ascending=False).head(10)"
   ]
  },
  {
   "cell_type": "code",
   "execution_count": 68,
   "id": "b4c80487",
   "metadata": {},
   "outputs": [
    {
     "data": {
      "text/plain": [
       "United States    1042\n",
       "Norway            930\n",
       "Canada            855\n",
       "Italy             764\n",
       "Austria           763\n",
       "Japan             724\n",
       "Sweden            718\n",
       "France            713\n",
       "Germany           696\n",
       "Switzerland       631\n",
       "Name: Team, dtype: int64"
      ]
     },
     "execution_count": 68,
     "metadata": {},
     "output_type": "execute_result"
    }
   ],
   "source": [
    "ath_10_winter #These are the countries who were participated in winter"
   ]
  },
  {
   "cell_type": "code",
   "execution_count": 109,
   "id": "14a87731",
   "metadata": {},
   "outputs": [
    {
     "data": {
      "text/plain": [
       "Text(0.5, 0, \"Country's\")"
      ]
     },
     "execution_count": 109,
     "metadata": {},
     "output_type": "execute_result"
    },
    {
     "data": {
      "image/png": "[encoded data removed]",
      "text/plain": [
       "<Figure size 1008x504 with 1 Axes>"
      ]
     },
     "metadata": {
      "needs_background": "light"
     },
     "output_type": "display_data"
    }
   ],
   "source": [
    "#let's make a bar graph of top 10 countries participated in Winter\n",
    "plt.figure(figsize=(14,7))\n",
    "plt.title('Top_10 Participated Nation In Winter')\n",
    "sns.barplot(x=ath_10_winter.index,y=ath_10_winter,palette='Set3')\n",
    "plt.xlabel(\"Country's\")\n",
    "           \n"
   ]
  },
  {
   "cell_type": "code",
   "execution_count": 110,
   "id": "e3092be5",
   "metadata": {},
   "outputs": [],
   "source": [
    "#Summer Olympics Sports\n",
    "ath_summer_sports=ath[ath['Season']=='Summer'].Sport.unique()"
   ]
  },
  {
   "cell_type": "code",
   "execution_count": 111,
   "id": "8abe1d96",
   "metadata": {},
   "outputs": [],
   "source": [
    "ath_10_summer=ath_summer.Sport.value_counts().sort_values(ascending=False).head()"
   ]
  },
  {
   "cell_type": "code",
   "execution_count": 112,
   "id": "4c4b6156",
   "metadata": {},
   "outputs": [
    {
     "data": {
      "text/plain": [
       "Text(0.5, 0, 'Sports')"
      ]
     },
     "execution_count": 112,
     "metadata": {},
     "output_type": "execute_result"
    },
    {
     "data": {
      "image/png": "[encoded data removed]",
      "text/plain": [
       "<Figure size 1008x504 with 1 Axes>"
      ]
     },
     "metadata": {
      "needs_background": "light"
     },
     "output_type": "display_data"
    }
   ],
   "source": [
    "#let's make a bar graph of top 10 sports happened in summer\n",
    "plt.figure(figsize=(14,7))\n",
    "plt.title('Top_10 sports happened In Summer')\n",
    "sns.barplot(x=ath_10_summer.index,y=ath_10_summer,palette='Set3')\n",
    "plt.ylabel('Teams Participated')\n",
    "plt.xlabel('Sports')"
   ]
  },
  {
   "cell_type": "code",
   "execution_count": 113,
   "id": "1b96d361",
   "metadata": {},
   "outputs": [],
   "source": [
    "ath_winter=ath[ath['Season']=='Winter']"
   ]
  },
  {
   "cell_type": "code",
   "execution_count": 114,
   "id": "0eb84e27",
   "metadata": {},
   "outputs": [],
   "source": [
    "#Winter Olympics Sports\n",
    "ath_winter_sports=ath[ath['Season']=='Winter'].Sport.unique()"
   ]
  },
  {
   "cell_type": "code",
   "execution_count": 115,
   "id": "da89eaa0",
   "metadata": {},
   "outputs": [],
   "source": [
    "ath_10_winter=ath_winter.Sport.value_counts().sort_values(ascending=False).head()"
   ]
  },
  {
   "cell_type": "code",
   "execution_count": 116,
   "id": "2ba9c5f3",
   "metadata": {},
   "outputs": [
    {
     "data": {
      "text/plain": [
       "Text(0.5, 0, 'Sports')"
      ]
     },
     "execution_count": 116,
     "metadata": {},
     "output_type": "execute_result"
    },
    {
     "data": {
      "image/png": "[encoded data removed]",
      "text/plain": [
       "<Figure size 1008x504 with 1 Axes>"
      ]
     },
     "metadata": {
      "needs_background": "light"
     },
     "output_type": "display_data"
    }
   ],
   "source": [
    "#let's make a bar graph of top 10 sports happened in summer\n",
    "plt.figure(figsize=(14,7))\n",
    "plt.title('Top_10 sports happened In Winter')\n",
    "sns.barplot(x=ath_10_winter.index,y=ath_10_winter,palette='Set3')\n",
    "plt.ylabel('Teams Participated')\n",
    "plt.xlabel('Sports')"
   ]
  },
  {
   "cell_type": "code",
   "execution_count": 117,
   "id": "b835bd4c",
   "metadata": {},
   "outputs": [
    {
     "data": {
      "text/plain": [
       "M    88949\n",
       "F    35685\n",
       "Name: Sex, dtype: int64"
      ]
     },
     "execution_count": 117,
     "metadata": {},
     "output_type": "execute_result"
    }
   ],
   "source": [
    "#Male and Female Participants\n",
    "gender_counts=ath['Sex'].value_counts()\n",
    "gender_counts"
   ]
  },
  {
   "cell_type": "code",
   "execution_count": 118,
   "id": "727d6357",
   "metadata": {},
   "outputs": [
    {
     "data": {
      "image/png": "[encoded data removed]",
      "text/plain": [
       "<Figure size 864x504 with 1 Axes>"
      ]
     },
     "metadata": {},
     "output_type": "display_data"
    }
   ],
   "source": [
    "#pie plot for male and female athletes\n",
    "plt.figure(figsize=(12,7))\n",
    "plt.title('Gender Distribution')\n",
    "plt.pie(gender_counts,labels=gender_counts.index,autopct='%1.1f%%',startangle=150,shadow=True);"
   ]
  },
  {
   "cell_type": "code",
   "execution_count": 119,
   "id": "57392cdc",
   "metadata": {},
   "outputs": [
    {
     "data": {
      "text/plain": [
       "Bronze    6559\n",
       "Gold      6201\n",
       "Silver    6167\n",
       "Name: Medal, dtype: int64"
      ]
     },
     "execution_count": 119,
     "metadata": {},
     "output_type": "execute_result"
    }
   ],
   "source": [
    "ath['Medal'].value_counts()"
   ]
  },
  {
   "cell_type": "code",
   "execution_count": 127,
   "id": "ac4928f7",
   "metadata": {},
   "outputs": [],
   "source": [
    "#One hot encoding \n",
    "ath_medals=pd.concat([ath,pd.get_dummies(ath['Medal'])],axis=1)"
   ]
  },
  {
   "cell_type": "code",
   "execution_count": 128,
   "id": "22bc831c",
   "metadata": {},
   "outputs": [],
   "source": [
    "#Total Medals\n",
    "ath_medals['Total Medals']=ath_medals['Gold']+ath_medals['Silver']+ath_medals['Bronze']"
   ]
  },
  {
   "cell_type": "code",
   "execution_count": 148,
   "id": "383c7988",
   "metadata": {},
   "outputs": [
    {
     "data": {
      "text/html": [
       "<div>\n",
       "<style scoped>\n",
       "    .dataframe tbody tr th:only-of-type {\n",
       "        vertical-align: middle;\n",
       "    }\n",
       "\n",
       "    .dataframe tbody tr th {\n",
       "        vertical-align: top;\n",
       "    }\n",
       "\n",
       "    .dataframe thead th {\n",
       "        text-align: right;\n",
       "    }\n",
       "</style>\n",
       "<table border=\"1\" class=\"dataframe\">\n",
       "  <thead>\n",
       "    <tr style=\"text-align: right;\">\n",
       "      <th></th>\n",
       "      <th>Year</th>\n",
       "      <th>Sex</th>\n",
       "    </tr>\n",
       "  </thead>\n",
       "  <tbody>\n",
       "    <tr>\n",
       "      <th>0</th>\n",
       "      <td>1900</td>\n",
       "      <td>18</td>\n",
       "    </tr>\n",
       "    <tr>\n",
       "      <th>1</th>\n",
       "      <td>1904</td>\n",
       "      <td>9</td>\n",
       "    </tr>\n",
       "    <tr>\n",
       "      <th>2</th>\n",
       "      <td>1906</td>\n",
       "      <td>8</td>\n",
       "    </tr>\n",
       "    <tr>\n",
       "      <th>3</th>\n",
       "      <td>1908</td>\n",
       "      <td>18</td>\n",
       "    </tr>\n",
       "    <tr>\n",
       "      <th>4</th>\n",
       "      <td>1912</td>\n",
       "      <td>39</td>\n",
       "    </tr>\n",
       "  </tbody>\n",
       "</table>\n",
       "</div>"
      ],
      "text/plain": [
       "   Year  Sex\n",
       "0  1900   18\n",
       "1  1904    9\n",
       "2  1906    8\n",
       "3  1908   18\n",
       "4  1912   39"
      ]
     },
     "execution_count": 148,
     "metadata": {},
     "output_type": "execute_result"
    }
   ],
   "source": [
    "#Total No. Of Female Athletes in each olympics incase of Summer \n",
    "female_ath=ath[(ath.Sex=='F') & (ath.Season=='Summer')][['Sex','Year']]\n",
    "female_ath=female_ath.groupby('Year').count().reset_index()\n",
    "female_ath.head()"
   ]
  },
  {
   "cell_type": "code",
   "execution_count": 150,
   "id": "cbadd794",
   "metadata": {},
   "outputs": [
    {
     "data": {
      "text/html": [
       "<div>\n",
       "<style scoped>\n",
       "    .dataframe tbody tr th:only-of-type {\n",
       "        vertical-align: middle;\n",
       "    }\n",
       "\n",
       "    .dataframe tbody tr th {\n",
       "        vertical-align: top;\n",
       "    }\n",
       "\n",
       "    .dataframe thead th {\n",
       "        text-align: right;\n",
       "    }\n",
       "</style>\n",
       "<table border=\"1\" class=\"dataframe\">\n",
       "  <thead>\n",
       "    <tr style=\"text-align: right;\">\n",
       "      <th></th>\n",
       "      <th>Year</th>\n",
       "      <th>Sex</th>\n",
       "    </tr>\n",
       "  </thead>\n",
       "  <tbody>\n",
       "    <tr>\n",
       "      <th>0</th>\n",
       "      <td>1924</td>\n",
       "      <td>11</td>\n",
       "    </tr>\n",
       "    <tr>\n",
       "      <th>1</th>\n",
       "      <td>1928</td>\n",
       "      <td>16</td>\n",
       "    </tr>\n",
       "    <tr>\n",
       "      <th>2</th>\n",
       "      <td>1932</td>\n",
       "      <td>11</td>\n",
       "    </tr>\n",
       "    <tr>\n",
       "      <th>3</th>\n",
       "      <td>1936</td>\n",
       "      <td>41</td>\n",
       "    </tr>\n",
       "    <tr>\n",
       "      <th>4</th>\n",
       "      <td>1948</td>\n",
       "      <td>61</td>\n",
       "    </tr>\n",
       "  </tbody>\n",
       "</table>\n",
       "</div>"
      ],
      "text/plain": [
       "   Year  Sex\n",
       "0  1924   11\n",
       "1  1928   16\n",
       "2  1932   11\n",
       "3  1936   41\n",
       "4  1948   61"
      ]
     },
     "execution_count": 150,
     "metadata": {},
     "output_type": "execute_result"
    }
   ],
   "source": [
    "#Total No. Of Female Athletes in each olympics incase of Winter\n",
    "female_ath=ath[(ath.Sex=='F') & (ath.Season=='Winter')][['Sex','Year']]\n",
    "female_ath=female_ath.groupby('Year').count().reset_index()\n",
    "female_ath.head()"
   ]
  },
  {
   "cell_type": "code",
   "execution_count": 151,
   "id": "49269497",
   "metadata": {},
   "outputs": [],
   "source": [
    "female_olymp=ath[(ath.Sex=='F') & (ath.Season=='Summer')]"
   ]
  },
  {
   "cell_type": "code",
   "execution_count": 153,
   "id": "f64f7bba",
   "metadata": {},
   "outputs": [],
   "source": [
    "import seaborn as sns"
   ]
  },
  {
   "cell_type": "code",
   "execution_count": 158,
   "id": "f3e0562d",
   "metadata": {},
   "outputs": [
    {
     "data": {
      "text/plain": [
       "Text(0.5, 1.0, 'Women Participation Incase Of Summer')"
      ]
     },
     "execution_count": 158,
     "metadata": {},
     "output_type": "execute_result"
    },
    {
     "data": {
      "image/png": "[encoded data removed]",
      "text/plain": [
       "<Figure size 1440x720 with 1 Axes>"
      ]
     },
     "metadata": {},
     "output_type": "display_data"
    }
   ],
   "source": [
    "sns.set(style='darkgrid')\n",
    "plt.figure(figsize=(20,10))\n",
    "sns.countplot(x='Year',data=female_olymp,palette='Spectral')\n",
    "plt.title('Women Participation Incase Of Summer')"
   ]
  },
  {
   "cell_type": "code",
   "execution_count": 159,
   "id": "8233e94f",
   "metadata": {},
   "outputs": [],
   "source": [
    "female_olympWin=ath[(ath.Sex=='F') & (ath.Season=='Winter')]"
   ]
  },
  {
   "cell_type": "code",
   "execution_count": 160,
   "id": "c03255ba",
   "metadata": {},
   "outputs": [
    {
     "data": {
      "text/plain": [
       "Text(0.5, 1.0, 'Women Participation Incase Of Winter')"
      ]
     },
     "execution_count": 160,
     "metadata": {},
     "output_type": "execute_result"
    },
    {
     "data": {
      "image/png": "[encoded data removed]",
      "text/plain": [
       "<Figure size 1440x720 with 1 Axes>"
      ]
     },
     "metadata": {},
     "output_type": "display_data"
    }
   ],
   "source": [
    "sns.set(style='darkgrid')\n",
    "plt.figure(figsize=(20,10))\n",
    "sns.countplot(x='Year',data=female_olymp,palette='Spectral')\n",
    "plt.title('Women Participation Incase Of Winter')\n"
   ]
  },
  {
   "cell_type": "code",
   "execution_count": 162,
   "id": "4d824655",
   "metadata": {},
   "outputs": [
    {
     "data": {
      "text/plain": [
       "Text(0.5, 1.0, 'Plot Of Female Athletes Over Time Incase Of Winter Season')"
      ]
     },
     "execution_count": 162,
     "metadata": {},
     "output_type": "execute_result"
    },
    {
     "data": {
      "image/png": "[encoded data removed]",
      "text/plain": [
       "<Figure size 1440x720 with 1 Axes>"
      ]
     },
     "metadata": {},
     "output_type": "display_data"
    }
   ],
   "source": [
    "part=female_olympWin.groupby('Year')['Sex'].value_counts()\n",
    "plt.figure(figsize=(20,10))\n",
    "part.loc[:,'F'].plot()\n",
    "plt.title('Plot Of Female Athletes Over Time Incase Of Winter Season')"
   ]
  },
  {
   "cell_type": "code",
   "execution_count": 163,
   "id": "cdb86373",
   "metadata": {},
   "outputs": [
    {
     "data": {
      "text/plain": [
       "50        Art Competitions\n",
       "119               Shooting\n",
       "120               Shooting\n",
       "633               Shooting\n",
       "634               Shooting\n",
       "                ...       \n",
       "122659       Equestrianism\n",
       "123000    Art Competitions\n",
       "123339    Art Competitions\n",
       "123967            Shooting\n",
       "124300       Equestrianism\n",
       "Name: Sport, Length: 491, dtype: object"
      ]
     },
     "execution_count": 163,
     "metadata": {},
     "output_type": "execute_result"
    }
   ],
   "source": [
    "#let's see the athletes whoes is more than 50\n",
    "more_ath=ath['Sport'][ath['Age']>50]\n",
    "more_ath"
   ]
  },
  {
   "cell_type": "code",
   "execution_count": 175,
   "id": "d9320d0e",
   "metadata": {},
   "outputs": [
    {
     "data": {
      "text/plain": [
       "Text(0, 0.5, 'Sports')"
      ]
     },
     "execution_count": 175,
     "metadata": {},
     "output_type": "execute_result"
    },
    {
     "data": {
      "image/png": "[encoded data removed]",
      "text/plain": [
       "<Figure size 864x432 with 1 Axes>"
      ]
     },
     "metadata": {},
     "output_type": "display_data"
    }
   ],
   "source": [
    "plt.figure(figsize=(12,6))\n",
    "plt.title('Sports Played Whoes Age>50')\n",
    "sns.barplot(x=more_ath.index,y=more_ath,palette='Set3')\n",
    "plt.xlabel('Age')\n",
    "plt.ylabel('Sports')"
   ]
  },
  {
   "cell_type": "code",
   "execution_count": 177,
   "id": "5e62d878",
   "metadata": {},
   "outputs": [],
   "source": [
    "#Athletes who won Gold medal\n",
    "gold_guy=ath[(ath.Medal=='Gold')]"
   ]
  },
  {
   "cell_type": "code",
   "execution_count": 181,
   "id": "a2851f8b",
   "metadata": {
    "collapsed": true
   },
   "outputs": [
    {
     "data": {
      "text/html": [
       "<div>\n",
       "<style scoped>\n",
       "    .dataframe tbody tr th:only-of-type {\n",
       "        vertical-align: middle;\n",
       "    }\n",
       "\n",
       "    .dataframe tbody tr th {\n",
       "        vertical-align: top;\n",
       "    }\n",
       "\n",
       "    .dataframe thead th {\n",
       "        text-align: right;\n",
       "    }\n",
       "</style>\n",
       "<table border=\"1\" class=\"dataframe\">\n",
       "  <thead>\n",
       "    <tr style=\"text-align: right;\">\n",
       "      <th></th>\n",
       "      <th>ID</th>\n",
       "      <th>Name</th>\n",
       "      <th>Sex</th>\n",
       "      <th>Age</th>\n",
       "      <th>Height</th>\n",
       "      <th>Weight</th>\n",
       "      <th>Team</th>\n",
       "      <th>NOC</th>\n",
       "      <th>Games</th>\n",
       "      <th>Year</th>\n",
       "      <th>Season</th>\n",
       "      <th>City</th>\n",
       "      <th>Sport</th>\n",
       "      <th>Event</th>\n",
       "      <th>Medal</th>\n",
       "      <th>Region</th>\n",
       "      <th>Notes</th>\n",
       "      <th>Region</th>\n",
       "      <th>Notes</th>\n",
       "      <th>Total Medals</th>\n",
       "    </tr>\n",
       "  </thead>\n",
       "  <tbody>\n",
       "    <tr>\n",
       "      <th>3</th>\n",
       "      <td>4</td>\n",
       "      <td>Edgar Lindenau Aabye</td>\n",
       "      <td>M</td>\n",
       "      <td>34.0</td>\n",
       "      <td>NaN</td>\n",
       "      <td>NaN</td>\n",
       "      <td>Denmark/Sweden</td>\n",
       "      <td>DEN</td>\n",
       "      <td>1900 Summer</td>\n",
       "      <td>1900</td>\n",
       "      <td>Summer</td>\n",
       "      <td>Paris</td>\n",
       "      <td>Tug-Of-War</td>\n",
       "      <td>Tug-Of-War Men's Tug-Of-War</td>\n",
       "      <td>Gold</td>\n",
       "      <td>Denmark</td>\n",
       "      <td>NaN</td>\n",
       "      <td>Denmark</td>\n",
       "      <td>NaN</td>\n",
       "      <td>NaN</td>\n",
       "    </tr>\n",
       "    <tr>\n",
       "      <th>34</th>\n",
       "      <td>17</td>\n",
       "      <td>Paavo Johannes Aaltonen</td>\n",
       "      <td>M</td>\n",
       "      <td>28.0</td>\n",
       "      <td>175.0</td>\n",
       "      <td>64.0</td>\n",
       "      <td>Finland</td>\n",
       "      <td>FIN</td>\n",
       "      <td>1948 Summer</td>\n",
       "      <td>1948</td>\n",
       "      <td>Summer</td>\n",
       "      <td>London</td>\n",
       "      <td>Gymnastics</td>\n",
       "      <td>Gymnastics Men's Team All-Around</td>\n",
       "      <td>Gold</td>\n",
       "      <td>Finland</td>\n",
       "      <td>NaN</td>\n",
       "      <td>Finland</td>\n",
       "      <td>NaN</td>\n",
       "      <td>NaN</td>\n",
       "    </tr>\n",
       "    <tr>\n",
       "      <th>36</th>\n",
       "      <td>17</td>\n",
       "      <td>Paavo Johannes Aaltonen</td>\n",
       "      <td>M</td>\n",
       "      <td>28.0</td>\n",
       "      <td>175.0</td>\n",
       "      <td>64.0</td>\n",
       "      <td>Finland</td>\n",
       "      <td>FIN</td>\n",
       "      <td>1948 Summer</td>\n",
       "      <td>1948</td>\n",
       "      <td>Summer</td>\n",
       "      <td>London</td>\n",
       "      <td>Gymnastics</td>\n",
       "      <td>Gymnastics Men's Horse Vault</td>\n",
       "      <td>Gold</td>\n",
       "      <td>Finland</td>\n",
       "      <td>NaN</td>\n",
       "      <td>Finland</td>\n",
       "      <td>NaN</td>\n",
       "      <td>NaN</td>\n",
       "    </tr>\n",
       "    <tr>\n",
       "      <th>40</th>\n",
       "      <td>17</td>\n",
       "      <td>Paavo Johannes Aaltonen</td>\n",
       "      <td>M</td>\n",
       "      <td>28.0</td>\n",
       "      <td>175.0</td>\n",
       "      <td>64.0</td>\n",
       "      <td>Finland</td>\n",
       "      <td>FIN</td>\n",
       "      <td>1948 Summer</td>\n",
       "      <td>1948</td>\n",
       "      <td>Summer</td>\n",
       "      <td>London</td>\n",
       "      <td>Gymnastics</td>\n",
       "      <td>Gymnastics Men's Pommelled Horse</td>\n",
       "      <td>Gold</td>\n",
       "      <td>Finland</td>\n",
       "      <td>NaN</td>\n",
       "      <td>Finland</td>\n",
       "      <td>NaN</td>\n",
       "      <td>NaN</td>\n",
       "    </tr>\n",
       "    <tr>\n",
       "      <th>52</th>\n",
       "      <td>20</td>\n",
       "      <td>Kjetil Andr Aamodt</td>\n",
       "      <td>M</td>\n",
       "      <td>20.0</td>\n",
       "      <td>176.0</td>\n",
       "      <td>85.0</td>\n",
       "      <td>Norway</td>\n",
       "      <td>NOR</td>\n",
       "      <td>1992 Winter</td>\n",
       "      <td>1992</td>\n",
       "      <td>Winter</td>\n",
       "      <td>Albertville</td>\n",
       "      <td>Alpine Skiing</td>\n",
       "      <td>Alpine Skiing Men's Super G</td>\n",
       "      <td>Gold</td>\n",
       "      <td>Norway</td>\n",
       "      <td>NaN</td>\n",
       "      <td>Norway</td>\n",
       "      <td>NaN</td>\n",
       "      <td>NaN</td>\n",
       "    </tr>\n",
       "    <tr>\n",
       "      <th>...</th>\n",
       "      <td>...</td>\n",
       "      <td>...</td>\n",
       "      <td>...</td>\n",
       "      <td>...</td>\n",
       "      <td>...</td>\n",
       "      <td>...</td>\n",
       "      <td>...</td>\n",
       "      <td>...</td>\n",
       "      <td>...</td>\n",
       "      <td>...</td>\n",
       "      <td>...</td>\n",
       "      <td>...</td>\n",
       "      <td>...</td>\n",
       "      <td>...</td>\n",
       "      <td>...</td>\n",
       "      <td>...</td>\n",
       "      <td>...</td>\n",
       "      <td>...</td>\n",
       "      <td>...</td>\n",
       "      <td>...</td>\n",
       "    </tr>\n",
       "    <tr>\n",
       "      <th>124579</th>\n",
       "      <td>135474</td>\n",
       "      <td>Albert Hermann Zrner</td>\n",
       "      <td>M</td>\n",
       "      <td>18.0</td>\n",
       "      <td>NaN</td>\n",
       "      <td>NaN</td>\n",
       "      <td>Germany</td>\n",
       "      <td>GER</td>\n",
       "      <td>1908 Summer</td>\n",
       "      <td>1908</td>\n",
       "      <td>Summer</td>\n",
       "      <td>London</td>\n",
       "      <td>Diving</td>\n",
       "      <td>Diving Men's Springboard</td>\n",
       "      <td>Gold</td>\n",
       "      <td>Germany</td>\n",
       "      <td>NaN</td>\n",
       "      <td>Germany</td>\n",
       "      <td>NaN</td>\n",
       "      <td>NaN</td>\n",
       "    </tr>\n",
       "    <tr>\n",
       "      <th>124588</th>\n",
       "      <td>135481</td>\n",
       "      <td>Jules Alexis \"Louis\" Zutter</td>\n",
       "      <td>M</td>\n",
       "      <td>30.0</td>\n",
       "      <td>NaN</td>\n",
       "      <td>NaN</td>\n",
       "      <td>Switzerland</td>\n",
       "      <td>SUI</td>\n",
       "      <td>1896 Summer</td>\n",
       "      <td>1896</td>\n",
       "      <td>Summer</td>\n",
       "      <td>Athina</td>\n",
       "      <td>Gymnastics</td>\n",
       "      <td>Gymnastics Men's Pommelled Horse</td>\n",
       "      <td>Gold</td>\n",
       "      <td>Switzerland</td>\n",
       "      <td>NaN</td>\n",
       "      <td>Switzerland</td>\n",
       "      <td>NaN</td>\n",
       "      <td>NaN</td>\n",
       "    </tr>\n",
       "    <tr>\n",
       "      <th>124602</th>\n",
       "      <td>135501</td>\n",
       "      <td>Ellina Aleksandrovna Zvereva (Kisheyeva-)</td>\n",
       "      <td>F</td>\n",
       "      <td>39.0</td>\n",
       "      <td>183.0</td>\n",
       "      <td>100.0</td>\n",
       "      <td>Belarus</td>\n",
       "      <td>BLR</td>\n",
       "      <td>2000 Summer</td>\n",
       "      <td>2000</td>\n",
       "      <td>Summer</td>\n",
       "      <td>Sydney</td>\n",
       "      <td>Athletics</td>\n",
       "      <td>Athletics Women's Discus Throw</td>\n",
       "      <td>Gold</td>\n",
       "      <td>Belarus</td>\n",
       "      <td>NaN</td>\n",
       "      <td>Belarus</td>\n",
       "      <td>NaN</td>\n",
       "      <td>NaN</td>\n",
       "    </tr>\n",
       "    <tr>\n",
       "      <th>124603</th>\n",
       "      <td>135503</td>\n",
       "      <td>Zurab Zviadauri</td>\n",
       "      <td>M</td>\n",
       "      <td>23.0</td>\n",
       "      <td>182.0</td>\n",
       "      <td>90.0</td>\n",
       "      <td>Georgia</td>\n",
       "      <td>GEO</td>\n",
       "      <td>2004 Summer</td>\n",
       "      <td>2004</td>\n",
       "      <td>Summer</td>\n",
       "      <td>Athina</td>\n",
       "      <td>Judo</td>\n",
       "      <td>Judo Men's Middleweight</td>\n",
       "      <td>Gold</td>\n",
       "      <td>Georgia</td>\n",
       "      <td>NaN</td>\n",
       "      <td>Georgia</td>\n",
       "      <td>NaN</td>\n",
       "      <td>NaN</td>\n",
       "    </tr>\n",
       "    <tr>\n",
       "      <th>124622</th>\n",
       "      <td>135553</td>\n",
       "      <td>Galina Ivanovna Zybina (-Fyodorova)</td>\n",
       "      <td>F</td>\n",
       "      <td>21.0</td>\n",
       "      <td>168.0</td>\n",
       "      <td>80.0</td>\n",
       "      <td>Soviet Union</td>\n",
       "      <td>URS</td>\n",
       "      <td>1952 Summer</td>\n",
       "      <td>1952</td>\n",
       "      <td>Summer</td>\n",
       "      <td>Helsinki</td>\n",
       "      <td>Athletics</td>\n",
       "      <td>Athletics Women's Shot Put</td>\n",
       "      <td>Gold</td>\n",
       "      <td>Russia</td>\n",
       "      <td>NaN</td>\n",
       "      <td>Russia</td>\n",
       "      <td>NaN</td>\n",
       "      <td>NaN</td>\n",
       "    </tr>\n",
       "  </tbody>\n",
       "</table>\n",
       "<p>6201 rows × 20 columns</p>\n",
       "</div>"
      ],
      "text/plain": [
       "            ID                                       Name Sex   Age  Height  \\\n",
       "3            4                       Edgar Lindenau Aabye   M  34.0     NaN   \n",
       "34          17                    Paavo Johannes Aaltonen   M  28.0   175.0   \n",
       "36          17                    Paavo Johannes Aaltonen   M  28.0   175.0   \n",
       "40          17                    Paavo Johannes Aaltonen   M  28.0   175.0   \n",
       "52          20                         Kjetil Andr Aamodt   M  20.0   176.0   \n",
       "...        ...                                        ...  ..   ...     ...   \n",
       "124579  135474                       Albert Hermann Zrner   M  18.0     NaN   \n",
       "124588  135481                Jules Alexis \"Louis\" Zutter   M  30.0     NaN   \n",
       "124602  135501  Ellina Aleksandrovna Zvereva (Kisheyeva-)   F  39.0   183.0   \n",
       "124603  135503                            Zurab Zviadauri   M  23.0   182.0   \n",
       "124622  135553        Galina Ivanovna Zybina (-Fyodorova)   F  21.0   168.0   \n",
       "\n",
       "        Weight            Team  NOC        Games  Year  Season         City  \\\n",
       "3          NaN  Denmark/Sweden  DEN  1900 Summer  1900  Summer        Paris   \n",
       "34        64.0         Finland  FIN  1948 Summer  1948  Summer       London   \n",
       "36        64.0         Finland  FIN  1948 Summer  1948  Summer       London   \n",
       "40        64.0         Finland  FIN  1948 Summer  1948  Summer       London   \n",
       "52        85.0          Norway  NOR  1992 Winter  1992  Winter  Albertville   \n",
       "...        ...             ...  ...          ...   ...     ...          ...   \n",
       "124579     NaN         Germany  GER  1908 Summer  1908  Summer       London   \n",
       "124588     NaN     Switzerland  SUI  1896 Summer  1896  Summer       Athina   \n",
       "124602   100.0         Belarus  BLR  2000 Summer  2000  Summer       Sydney   \n",
       "124603    90.0         Georgia  GEO  2004 Summer  2004  Summer       Athina   \n",
       "124622    80.0    Soviet Union  URS  1952 Summer  1952  Summer     Helsinki   \n",
       "\n",
       "                Sport                             Event Medal       Region  \\\n",
       "3          Tug-Of-War       Tug-Of-War Men's Tug-Of-War  Gold      Denmark   \n",
       "34         Gymnastics  Gymnastics Men's Team All-Around  Gold      Finland   \n",
       "36         Gymnastics      Gymnastics Men's Horse Vault  Gold      Finland   \n",
       "40         Gymnastics  Gymnastics Men's Pommelled Horse  Gold      Finland   \n",
       "52      Alpine Skiing       Alpine Skiing Men's Super G  Gold       Norway   \n",
       "...               ...                               ...   ...          ...   \n",
       "124579         Diving          Diving Men's Springboard  Gold      Germany   \n",
       "124588     Gymnastics  Gymnastics Men's Pommelled Horse  Gold  Switzerland   \n",
       "124602      Athletics    Athletics Women's Discus Throw  Gold      Belarus   \n",
       "124603           Judo           Judo Men's Middleweight  Gold      Georgia   \n",
       "124622      Athletics        Athletics Women's Shot Put  Gold       Russia   \n",
       "\n",
       "       Notes       Region Notes  Total Medals  \n",
       "3        NaN      Denmark   NaN           NaN  \n",
       "34       NaN      Finland   NaN           NaN  \n",
       "36       NaN      Finland   NaN           NaN  \n",
       "40       NaN      Finland   NaN           NaN  \n",
       "52       NaN       Norway   NaN           NaN  \n",
       "...      ...          ...   ...           ...  \n",
       "124579   NaN      Germany   NaN           NaN  \n",
       "124588   NaN  Switzerland   NaN           NaN  \n",
       "124602   NaN      Belarus   NaN           NaN  \n",
       "124603   NaN      Georgia   NaN           NaN  \n",
       "124622   NaN       Russia   NaN           NaN  \n",
       "\n",
       "[6201 rows x 20 columns]"
      ]
     },
     "execution_count": 181,
     "metadata": {},
     "output_type": "execute_result"
    }
   ],
   "source": [
    "gold_guy"
   ]
  },
  {
   "cell_type": "code",
   "execution_count": 184,
   "id": "c2f3eeeb",
   "metadata": {},
   "outputs": [
    {
     "data": {
      "text/plain": [
       "32"
      ]
     },
     "execution_count": 184,
     "metadata": {},
     "output_type": "execute_result"
    }
   ],
   "source": [
    "# Athletes over 50 years age won how may golds\n",
    "gold_guy['ID'][gold_guy['Age']>50].count()"
   ]
  },
  {
   "cell_type": "code",
   "execution_count": 191,
   "id": "bfbb3e1d",
   "metadata": {},
   "outputs": [],
   "source": [
    "gold_sports=gold_guy['Sport'][gold_guy['Age']>50]"
   ]
  },
  {
   "cell_type": "code",
   "execution_count": 192,
   "id": "52e102a6",
   "metadata": {},
   "outputs": [
    {
     "data": {
      "text/plain": [
       "4527         Equestrianism\n",
       "11772        Equestrianism\n",
       "11774        Equestrianism\n",
       "21014        Equestrianism\n",
       "24889             Alpinism\n",
       "45910              Sailing\n",
       "53872        Equestrianism\n",
       "66723     Art Competitions\n",
       "67359                Roque\n",
       "74732        Equestrianism\n",
       "79304     Art Competitions\n",
       "80376             Shooting\n",
       "82440        Equestrianism\n",
       "89929             Shooting\n",
       "91417             Shooting\n",
       "91419             Shooting\n",
       "93119        Equestrianism\n",
       "94212              Archery\n",
       "94465     Art Competitions\n",
       "95285              Sailing\n",
       "106834       Equestrianism\n",
       "111213       Equestrianism\n",
       "113681    Art Competitions\n",
       "114293            Shooting\n",
       "116051    Art Competitions\n",
       "118816             Archery\n",
       "118817             Archery\n",
       "120684    Art Competitions\n",
       "121143             Croquet\n",
       "121993            Shooting\n",
       "121994    Art Competitions\n",
       "123339    Art Competitions\n",
       "Name: Sport, dtype: object"
      ]
     },
     "execution_count": 192,
     "metadata": {},
     "output_type": "execute_result"
    }
   ],
   "source": [
    "gold_sports"
   ]
  },
  {
   "cell_type": "code",
   "execution_count": 218,
   "id": "70d540b4",
   "metadata": {},
   "outputs": [
    {
     "name": "stdout",
     "output_type": "stream",
     "text": [
      "2016\n"
     ]
    },
    {
     "data": {
      "text/html": [
       "<div>\n",
       "<style scoped>\n",
       "    .dataframe tbody tr th:only-of-type {\n",
       "        vertical-align: middle;\n",
       "    }\n",
       "\n",
       "    .dataframe tbody tr th {\n",
       "        vertical-align: top;\n",
       "    }\n",
       "\n",
       "    .dataframe thead th {\n",
       "        text-align: right;\n",
       "    }\n",
       "</style>\n",
       "<table border=\"1\" class=\"dataframe\">\n",
       "  <thead>\n",
       "    <tr style=\"text-align: right;\">\n",
       "      <th></th>\n",
       "      <th>ID</th>\n",
       "      <th>Name</th>\n",
       "      <th>Sex</th>\n",
       "      <th>Age</th>\n",
       "      <th>Height</th>\n",
       "      <th>Weight</th>\n",
       "      <th>Team</th>\n",
       "      <th>NOC</th>\n",
       "      <th>Games</th>\n",
       "      <th>Year</th>\n",
       "      <th>Season</th>\n",
       "      <th>City</th>\n",
       "      <th>Sport</th>\n",
       "      <th>Event</th>\n",
       "      <th>Medal</th>\n",
       "      <th>Region</th>\n",
       "      <th>Notes</th>\n",
       "      <th>Region</th>\n",
       "      <th>Notes</th>\n",
       "      <th>Total Medals</th>\n",
       "    </tr>\n",
       "  </thead>\n",
       "  <tbody>\n",
       "    <tr>\n",
       "      <th>989</th>\n",
       "      <td>608</td>\n",
       "      <td>Ahmad Abughaush</td>\n",
       "      <td>M</td>\n",
       "      <td>20.0</td>\n",
       "      <td>178.0</td>\n",
       "      <td>68.0</td>\n",
       "      <td>Jordan</td>\n",
       "      <td>JOR</td>\n",
       "      <td>2016 Summer</td>\n",
       "      <td>2016</td>\n",
       "      <td>Summer</td>\n",
       "      <td>Rio de Janeiro</td>\n",
       "      <td>Taekwondo</td>\n",
       "      <td>Taekwondo Men's Featherweight</td>\n",
       "      <td>Gold</td>\n",
       "      <td>Jordan</td>\n",
       "      <td>NaN</td>\n",
       "      <td>Jordan</td>\n",
       "      <td>NaN</td>\n",
       "      <td>NaN</td>\n",
       "    </tr>\n",
       "    <tr>\n",
       "      <th>1389</th>\n",
       "      <td>832</td>\n",
       "      <td>Nicola Virginia Adams</td>\n",
       "      <td>F</td>\n",
       "      <td>33.0</td>\n",
       "      <td>164.0</td>\n",
       "      <td>51.0</td>\n",
       "      <td>Great Britain</td>\n",
       "      <td>GBR</td>\n",
       "      <td>2016 Summer</td>\n",
       "      <td>2016</td>\n",
       "      <td>Summer</td>\n",
       "      <td>Rio de Janeiro</td>\n",
       "      <td>Boxing</td>\n",
       "      <td>Boxing Women's Flyweight</td>\n",
       "      <td>Gold</td>\n",
       "      <td>UK</td>\n",
       "      <td>NaN</td>\n",
       "      <td>UK</td>\n",
       "      <td>NaN</td>\n",
       "      <td>NaN</td>\n",
       "    </tr>\n",
       "    <tr>\n",
       "      <th>1728</th>\n",
       "      <td>1017</td>\n",
       "      <td>Nathan Ghar-Jun Adrian</td>\n",
       "      <td>M</td>\n",
       "      <td>27.0</td>\n",
       "      <td>198.0</td>\n",
       "      <td>100.0</td>\n",
       "      <td>United States</td>\n",
       "      <td>USA</td>\n",
       "      <td>2016 Summer</td>\n",
       "      <td>2016</td>\n",
       "      <td>Summer</td>\n",
       "      <td>Rio de Janeiro</td>\n",
       "      <td>Swimming</td>\n",
       "      <td>Swimming Men's 4 x 100 metres Freestyle Relay</td>\n",
       "      <td>Gold</td>\n",
       "      <td>USA</td>\n",
       "      <td>NaN</td>\n",
       "      <td>USA</td>\n",
       "      <td>NaN</td>\n",
       "      <td>NaN</td>\n",
       "    </tr>\n",
       "    <tr>\n",
       "      <th>1729</th>\n",
       "      <td>1017</td>\n",
       "      <td>Nathan Ghar-Jun Adrian</td>\n",
       "      <td>M</td>\n",
       "      <td>27.0</td>\n",
       "      <td>198.0</td>\n",
       "      <td>100.0</td>\n",
       "      <td>United States</td>\n",
       "      <td>USA</td>\n",
       "      <td>2016 Summer</td>\n",
       "      <td>2016</td>\n",
       "      <td>Summer</td>\n",
       "      <td>Rio de Janeiro</td>\n",
       "      <td>Swimming</td>\n",
       "      <td>Swimming Men's 4 x 100 metres Medley Relay</td>\n",
       "      <td>Gold</td>\n",
       "      <td>USA</td>\n",
       "      <td>NaN</td>\n",
       "      <td>USA</td>\n",
       "      <td>NaN</td>\n",
       "      <td>NaN</td>\n",
       "    </tr>\n",
       "    <tr>\n",
       "      <th>2296</th>\n",
       "      <td>1374</td>\n",
       "      <td>Tontowi Ahmad</td>\n",
       "      <td>M</td>\n",
       "      <td>29.0</td>\n",
       "      <td>179.0</td>\n",
       "      <td>72.0</td>\n",
       "      <td>Indonesia-1</td>\n",
       "      <td>INA</td>\n",
       "      <td>2016 Summer</td>\n",
       "      <td>2016</td>\n",
       "      <td>Summer</td>\n",
       "      <td>Rio de Janeiro</td>\n",
       "      <td>Badminton</td>\n",
       "      <td>Badminton Mixed Doubles</td>\n",
       "      <td>Gold</td>\n",
       "      <td>Indonesia</td>\n",
       "      <td>NaN</td>\n",
       "      <td>Indonesia</td>\n",
       "      <td>NaN</td>\n",
       "      <td>NaN</td>\n",
       "    </tr>\n",
       "    <tr>\n",
       "      <th>2725</th>\n",
       "      <td>1634</td>\n",
       "      <td>Taha Akgl</td>\n",
       "      <td>M</td>\n",
       "      <td>25.0</td>\n",
       "      <td>192.0</td>\n",
       "      <td>125.0</td>\n",
       "      <td>Turkey</td>\n",
       "      <td>TUR</td>\n",
       "      <td>2016 Summer</td>\n",
       "      <td>2016</td>\n",
       "      <td>Summer</td>\n",
       "      <td>Rio de Janeiro</td>\n",
       "      <td>Wrestling</td>\n",
       "      <td>Wrestling Men's Super-Heavyweight, Freestyle</td>\n",
       "      <td>Gold</td>\n",
       "      <td>Turkey</td>\n",
       "      <td>NaN</td>\n",
       "      <td>Turkey</td>\n",
       "      <td>NaN</td>\n",
       "      <td>NaN</td>\n",
       "    </tr>\n",
       "    <tr>\n",
       "      <th>2760</th>\n",
       "      <td>1649</td>\n",
       "      <td>Artur Kamilevich Akhmatkhuzin</td>\n",
       "      <td>M</td>\n",
       "      <td>28.0</td>\n",
       "      <td>187.0</td>\n",
       "      <td>79.0</td>\n",
       "      <td>Russia</td>\n",
       "      <td>RUS</td>\n",
       "      <td>2016 Summer</td>\n",
       "      <td>2016</td>\n",
       "      <td>Summer</td>\n",
       "      <td>Rio de Janeiro</td>\n",
       "      <td>Fencing</td>\n",
       "      <td>Fencing Men's Foil, Team</td>\n",
       "      <td>Gold</td>\n",
       "      <td>Russia</td>\n",
       "      <td>NaN</td>\n",
       "      <td>Russia</td>\n",
       "      <td>NaN</td>\n",
       "      <td>NaN</td>\n",
       "    </tr>\n",
       "    <tr>\n",
       "      <th>2812</th>\n",
       "      <td>1682</td>\n",
       "      <td>Morolake Akinosun</td>\n",
       "      <td>F</td>\n",
       "      <td>22.0</td>\n",
       "      <td>163.0</td>\n",
       "      <td>61.0</td>\n",
       "      <td>United States</td>\n",
       "      <td>USA</td>\n",
       "      <td>2016 Summer</td>\n",
       "      <td>2016</td>\n",
       "      <td>Summer</td>\n",
       "      <td>Rio de Janeiro</td>\n",
       "      <td>Athletics</td>\n",
       "      <td>Athletics Women's 4 x 100 metres Relay</td>\n",
       "      <td>Gold</td>\n",
       "      <td>USA</td>\n",
       "      <td>NaN</td>\n",
       "      <td>USA</td>\n",
       "      <td>NaN</td>\n",
       "      <td>NaN</td>\n",
       "    </tr>\n",
       "    <tr>\n",
       "      <th>3058</th>\n",
       "      <td>1858</td>\n",
       "      <td>Fehaid Al-Deehani</td>\n",
       "      <td>M</td>\n",
       "      <td>49.0</td>\n",
       "      <td>178.0</td>\n",
       "      <td>95.0</td>\n",
       "      <td>Individual Olympic Athletes</td>\n",
       "      <td>IOA</td>\n",
       "      <td>2016 Summer</td>\n",
       "      <td>2016</td>\n",
       "      <td>Summer</td>\n",
       "      <td>Rio de Janeiro</td>\n",
       "      <td>Shooting</td>\n",
       "      <td>Shooting Men's Double Trap</td>\n",
       "      <td>Gold</td>\n",
       "      <td>Individual Olympic Athletes</td>\n",
       "      <td>Individual Olympic Athletes</td>\n",
       "      <td>Individual Olympic Athletes</td>\n",
       "      <td>Individual Olympic Athletes</td>\n",
       "      <td>NaN</td>\n",
       "    </tr>\n",
       "    <tr>\n",
       "      <th>3916</th>\n",
       "      <td>2497</td>\n",
       "      <td>Artur Aleksanyan</td>\n",
       "      <td>M</td>\n",
       "      <td>24.0</td>\n",
       "      <td>190.0</td>\n",
       "      <td>98.0</td>\n",
       "      <td>Armenia</td>\n",
       "      <td>ARM</td>\n",
       "      <td>2016 Summer</td>\n",
       "      <td>2016</td>\n",
       "      <td>Summer</td>\n",
       "      <td>Rio de Janeiro</td>\n",
       "      <td>Wrestling</td>\n",
       "      <td>Wrestling Men's Heavyweight, Greco-Roman</td>\n",
       "      <td>Gold</td>\n",
       "      <td>Armenia</td>\n",
       "      <td>NaN</td>\n",
       "      <td>Armenia</td>\n",
       "      <td>NaN</td>\n",
       "      <td>NaN</td>\n",
       "    </tr>\n",
       "  </tbody>\n",
       "</table>\n",
       "</div>"
      ],
      "text/plain": [
       "        ID                           Name Sex   Age  Height  Weight  \\\n",
       "989    608                Ahmad Abughaush   M  20.0   178.0    68.0   \n",
       "1389   832          Nicola Virginia Adams   F  33.0   164.0    51.0   \n",
       "1728  1017         Nathan Ghar-Jun Adrian   M  27.0   198.0   100.0   \n",
       "1729  1017         Nathan Ghar-Jun Adrian   M  27.0   198.0   100.0   \n",
       "2296  1374                  Tontowi Ahmad   M  29.0   179.0    72.0   \n",
       "2725  1634                      Taha Akgl   M  25.0   192.0   125.0   \n",
       "2760  1649  Artur Kamilevich Akhmatkhuzin   M  28.0   187.0    79.0   \n",
       "2812  1682              Morolake Akinosun   F  22.0   163.0    61.0   \n",
       "3058  1858              Fehaid Al-Deehani   M  49.0   178.0    95.0   \n",
       "3916  2497               Artur Aleksanyan   M  24.0   190.0    98.0   \n",
       "\n",
       "                             Team  NOC        Games  Year  Season  \\\n",
       "989                        Jordan  JOR  2016 Summer  2016  Summer   \n",
       "1389                Great Britain  GBR  2016 Summer  2016  Summer   \n",
       "1728                United States  USA  2016 Summer  2016  Summer   \n",
       "1729                United States  USA  2016 Summer  2016  Summer   \n",
       "2296                  Indonesia-1  INA  2016 Summer  2016  Summer   \n",
       "2725                       Turkey  TUR  2016 Summer  2016  Summer   \n",
       "2760                       Russia  RUS  2016 Summer  2016  Summer   \n",
       "2812                United States  USA  2016 Summer  2016  Summer   \n",
       "3058  Individual Olympic Athletes  IOA  2016 Summer  2016  Summer   \n",
       "3916                      Armenia  ARM  2016 Summer  2016  Summer   \n",
       "\n",
       "                City      Sport  \\\n",
       "989   Rio de Janeiro  Taekwondo   \n",
       "1389  Rio de Janeiro     Boxing   \n",
       "1728  Rio de Janeiro   Swimming   \n",
       "1729  Rio de Janeiro   Swimming   \n",
       "2296  Rio de Janeiro  Badminton   \n",
       "2725  Rio de Janeiro  Wrestling   \n",
       "2760  Rio de Janeiro    Fencing   \n",
       "2812  Rio de Janeiro  Athletics   \n",
       "3058  Rio de Janeiro   Shooting   \n",
       "3916  Rio de Janeiro  Wrestling   \n",
       "\n",
       "                                              Event Medal  \\\n",
       "989                   Taekwondo Men's Featherweight  Gold   \n",
       "1389                       Boxing Women's Flyweight  Gold   \n",
       "1728  Swimming Men's 4 x 100 metres Freestyle Relay  Gold   \n",
       "1729     Swimming Men's 4 x 100 metres Medley Relay  Gold   \n",
       "2296                        Badminton Mixed Doubles  Gold   \n",
       "2725   Wrestling Men's Super-Heavyweight, Freestyle  Gold   \n",
       "2760                       Fencing Men's Foil, Team  Gold   \n",
       "2812         Athletics Women's 4 x 100 metres Relay  Gold   \n",
       "3058                     Shooting Men's Double Trap  Gold   \n",
       "3916       Wrestling Men's Heavyweight, Greco-Roman  Gold   \n",
       "\n",
       "                           Region                        Notes  \\\n",
       "989                        Jordan                          NaN   \n",
       "1389                           UK                          NaN   \n",
       "1728                          USA                          NaN   \n",
       "1729                          USA                          NaN   \n",
       "2296                    Indonesia                          NaN   \n",
       "2725                       Turkey                          NaN   \n",
       "2760                       Russia                          NaN   \n",
       "2812                          USA                          NaN   \n",
       "3058  Individual Olympic Athletes  Individual Olympic Athletes   \n",
       "3916                      Armenia                          NaN   \n",
       "\n",
       "                           Region                        Notes  Total Medals  \n",
       "989                        Jordan                          NaN           NaN  \n",
       "1389                           UK                          NaN           NaN  \n",
       "1728                          USA                          NaN           NaN  \n",
       "1729                          USA                          NaN           NaN  \n",
       "2296                    Indonesia                          NaN           NaN  \n",
       "2725                       Turkey                          NaN           NaN  \n",
       "2760                       Russia                          NaN           NaN  \n",
       "2812                          USA                          NaN           NaN  \n",
       "3058  Individual Olympic Athletes  Individual Olympic Athletes           NaN  \n",
       "3916                      Armenia                          NaN           NaN  "
      ]
     },
     "execution_count": 218,
     "metadata": {},
     "output_type": "execute_result"
    }
   ],
   "source": [
    "#Olympics\n",
    "\n",
    "max_year=ath.Year.max()\n",
    "print(max_year)\n",
    "\n",
    "name_teams=ath[(ath.Year==max_year)&(ath.Medal=='Gold')]\n",
    "name_teams.head(10)"
   ]
  },
  {
   "cell_type": "markdown",
   "id": "23c58fab",
   "metadata": {},
   "source": [
    "# So Our Olympic Data Analysis  Finished I Hope It Was Informative and Insights Full."
   ]
  }
 ],
 "metadata": {
  "kernelspec": {
   "display_name": "Python 3",
   "language": "python",
   "name": "python3"
  },
  "language_info": {
   "codemirror_mode": {
    "name": "ipython",
    "version": 3
   },
   "file_extension": ".py",
   "mimetype": "text/x-python",
   "name": "python",
   "nbconvert_exporter": "python",
   "pygments_lexer": "ipython3",
   "version": "3.8.8"
  }
 },
 "nbformat": 4,
 "nbformat_minor": 5
}
